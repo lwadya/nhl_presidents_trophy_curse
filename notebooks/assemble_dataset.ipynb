{
 "cells": [
  {
   "cell_type": "markdown",
   "metadata": {},
   "source": [
    "# Assemble Dataset"
   ]
  },
  {
   "cell_type": "markdown",
   "metadata": {},
   "source": [
    "### 1. Imports"
   ]
  },
  {
   "cell_type": "code",
   "execution_count": 1,
   "metadata": {},
   "outputs": [],
   "source": [
    "import pandas as pd\n",
    "import warnings"
   ]
  },
  {
   "cell_type": "markdown",
   "metadata": {},
   "source": [
    "### 2. File Settings"
   ]
  },
  {
   "cell_type": "code",
   "execution_count": 2,
   "metadata": {},
   "outputs": [],
   "source": [
    "csv_playoffs = '../data/playoffs.csv'\n",
    "csv_regular_season = '../data/regular_season.csv'\n",
    "csv_team_lookup = '../data/team_lookup.csv'\n",
    "csv_output = '../data/presidents_trophy_curse.csv'"
   ]
  },
  {
   "cell_type": "markdown",
   "metadata": {},
   "source": [
    "### 3. Load Files"
   ]
  },
  {
   "cell_type": "code",
   "execution_count": 3,
   "metadata": {},
   "outputs": [
    {
     "name": "stdout",
     "output_type": "stream",
     "text": [
      "Loaded file ../data/playoffs.csv\n",
      "Loaded file ../data/regular_season.csv\n",
      "Loaded file ../data/team_lookup.csv\n"
     ]
    }
   ],
   "source": [
    "failures = 0\n",
    "csv_files = [csv_playoffs, csv_regular_season, csv_team_lookup]\n",
    "df_dict = dict()\n",
    "for csv_file in csv_files:\n",
    "    try:\n",
    "        df_dict[csv_file] = pd.read_csv(csv_file)\n",
    "        print('Loaded file %s' % csv_file)\n",
    "    except:\n",
    "        warnings.warn('Failed to load %s' % csv_file)\n",
    "        failures += 1\n",
    "        \n",
    "if failures > 0:\n",
    "    raise RuntimeError('Failed to load necessary files')"
   ]
  },
  {
   "cell_type": "markdown",
   "metadata": {},
   "source": [
    "### 4. Assemble Single DataFrame"
   ]
  },
  {
   "cell_type": "code",
   "execution_count": 4,
   "metadata": {},
   "outputs": [
    {
     "name": "stdout",
     "output_type": "stream",
     "text": [
      "(576, 7)\n"
     ]
    },
    {
     "data": {
      "text/html": [
       "<div>\n",
       "<style scoped>\n",
       "    .dataframe tbody tr th:only-of-type {\n",
       "        vertical-align: middle;\n",
       "    }\n",
       "\n",
       "    .dataframe tbody tr th {\n",
       "        vertical-align: top;\n",
       "    }\n",
       "\n",
       "    .dataframe thead th {\n",
       "        text-align: right;\n",
       "    }\n",
       "</style>\n",
       "<table border=\"1\" class=\"dataframe\">\n",
       "  <thead>\n",
       "    <tr style=\"text-align: right;\">\n",
       "      <th></th>\n",
       "      <th>PlayoffRank</th>\n",
       "      <th>GP</th>\n",
       "      <th>W</th>\n",
       "      <th>Season</th>\n",
       "      <th>FullName</th>\n",
       "      <th>Abbreviation</th>\n",
       "      <th>SeasonRank</th>\n",
       "    </tr>\n",
       "  </thead>\n",
       "  <tbody>\n",
       "    <tr>\n",
       "      <td>0</td>\n",
       "      <td>1</td>\n",
       "      <td>20</td>\n",
       "      <td>15</td>\n",
       "      <td>1985</td>\n",
       "      <td>Montreal Canadiens</td>\n",
       "      <td>MTL</td>\n",
       "      <td>7</td>\n",
       "    </tr>\n",
       "    <tr>\n",
       "      <td>1</td>\n",
       "      <td>2</td>\n",
       "      <td>22</td>\n",
       "      <td>12</td>\n",
       "      <td>1985</td>\n",
       "      <td>Calgary Flames</td>\n",
       "      <td>CGY</td>\n",
       "      <td>6</td>\n",
       "    </tr>\n",
       "    <tr>\n",
       "      <td>2</td>\n",
       "      <td>3</td>\n",
       "      <td>19</td>\n",
       "      <td>10</td>\n",
       "      <td>1985</td>\n",
       "      <td>St. Louis Blues</td>\n",
       "      <td>STL</td>\n",
       "      <td>12</td>\n",
       "    </tr>\n",
       "    <tr>\n",
       "      <td>3</td>\n",
       "      <td>4</td>\n",
       "      <td>16</td>\n",
       "      <td>8</td>\n",
       "      <td>1985</td>\n",
       "      <td>New York Rangers</td>\n",
       "      <td>NYR</td>\n",
       "      <td>13</td>\n",
       "    </tr>\n",
       "    <tr>\n",
       "      <td>4</td>\n",
       "      <td>5</td>\n",
       "      <td>10</td>\n",
       "      <td>6</td>\n",
       "      <td>1985</td>\n",
       "      <td>Toronto Maple Leafs</td>\n",
       "      <td>TOR</td>\n",
       "      <td>16</td>\n",
       "    </tr>\n",
       "  </tbody>\n",
       "</table>\n",
       "</div>"
      ],
      "text/plain": [
       "   PlayoffRank  GP   W  Season             FullName Abbreviation  SeasonRank\n",
       "0            1  20  15    1985   Montreal Canadiens          MTL           7\n",
       "1            2  22  12    1985       Calgary Flames          CGY           6\n",
       "2            3  19  10    1985      St. Louis Blues          STL          12\n",
       "3            4  16   8    1985     New York Rangers          NYR          13\n",
       "4            5  10   6    1985  Toronto Maple Leafs          TOR          16"
      ]
     },
     "execution_count": 4,
     "metadata": {},
     "output_type": "execute_result"
    }
   ],
   "source": [
    "df = df_dict[csv_playoffs].merge(df_dict[csv_team_lookup],\n",
    "                                 how='left',\n",
    "                                 left_on='Team',\n",
    "                                 right_on='FullName')\n",
    "df = df.merge(df_dict[csv_regular_season],\n",
    "              how='left',\n",
    "              left_on=['Season', 'Abbreviation'],\n",
    "              right_on=['Season', 'Team'])\n",
    "\n",
    "df['SeasonRank'] = df.groupby('Season')['Rank_y'].rank('dense').astype(int)\n",
    "df.drop(['Team_x', 'Team_y', 'Rank_y'], axis=1, inplace=True)\n",
    "df.rename(columns={'Rank_x': 'PlayoffRank'}, inplace=True)\n",
    "print(df.shape)\n",
    "df.head()"
   ]
  },
  {
   "cell_type": "markdown",
   "metadata": {},
   "source": [
    "### 5. Export DataFrame to CSV"
   ]
  },
  {
   "cell_type": "code",
   "execution_count": 5,
   "metadata": {},
   "outputs": [],
   "source": [
    "df.to_csv(csv_output, index=False)"
   ]
  }
 ],
 "metadata": {
  "kernelspec": {
   "display_name": "Python 3",
   "language": "python",
   "name": "python3"
  },
  "language_info": {
   "codemirror_mode": {
    "name": "ipython",
    "version": 3
   },
   "file_extension": ".py",
   "mimetype": "text/x-python",
   "name": "python",
   "nbconvert_exporter": "python",
   "pygments_lexer": "ipython3",
   "version": "3.7.4"
  }
 },
 "nbformat": 4,
 "nbformat_minor": 4
}
