{
 "cells": [
  {
   "cell_type": "markdown",
   "metadata": {},
   "source": [
    "# Scrape Regular Season Data"
   ]
  },
  {
   "cell_type": "markdown",
   "metadata": {},
   "source": [
    "### 1. Imports"
   ]
  },
  {
   "cell_type": "code",
   "execution_count": 1,
   "metadata": {},
   "outputs": [],
   "source": [
    "from bs4 import BeautifulSoup\n",
    "from selenium import webdriver\n",
    "from selenium.webdriver.support.ui import WebDriverWait\n",
    "from selenium.webdriver.support import expected_conditions as EC\n",
    "from selenium.webdriver.common.by import By\n",
    "import datetime\n",
    "import time\n",
    "import os\n",
    "import random\n",
    "import pandas as pd"
   ]
  },
  {
   "cell_type": "markdown",
   "metadata": {},
   "source": [
    "### 2. NHL Website Settings"
   ]
  },
  {
   "cell_type": "code",
   "execution_count": 2,
   "metadata": {},
   "outputs": [],
   "source": [
    "url_template = 'https://www.nhl.com/standings/%i/league'\n",
    "season_st = 1985\n",
    "search_class = 'g5-component--standings__full-view'\n",
    "sleep_min = 5\n",
    "sleep_max = 10\n",
    "load_attempts = 3\n",
    "csv_file = '../data/regular_season.csv'"
   ]
  },
  {
   "cell_type": "markdown",
   "metadata": {},
   "source": [
    "### 3. Create Webdriver"
   ]
  },
  {
   "cell_type": "code",
   "execution_count": 3,
   "metadata": {},
   "outputs": [],
   "source": [
    "chromedriver = \"/Applications/chromedriver\"\n",
    "os.environ[\"webdriver.chrome.driver\"] = chromedriver\n",
    "driver = webdriver.Chrome(chromedriver)"
   ]
  },
  {
   "cell_type": "markdown",
   "metadata": {},
   "source": [
    "### 4. Load Existing Data File"
   ]
  },
  {
   "cell_type": "code",
   "execution_count": 4,
   "metadata": {},
   "outputs": [
    {
     "name": "stdout",
     "output_type": "stream",
     "text": [
      "Loaded seasons through 2021 from file\n"
     ]
    }
   ],
   "source": [
    "try:\n",
    "    df_from_file = pd.read_csv(csv_file)\n",
    "    df_list = [df_from_file]\n",
    "    season_st = df_from_file['Season'].max()\n",
    "    print('Loaded seasons through %i from file' % season_st)\n",
    "    season_st += 1\n",
    "except:\n",
    "    df_list = []\n",
    "    print('No seasons loaded from file')"
   ]
  },
  {
   "cell_type": "markdown",
   "metadata": {},
   "source": [
    "### 5. Scrape Standings for Each Season"
   ]
  },
  {
   "cell_type": "code",
   "execution_count": 5,
   "metadata": {},
   "outputs": [],
   "source": [
    "season_end = datetime.date.today().year\n",
    "urls_visited = set()\n",
    "for season in range(season_st, season_end):\n",
    "    \n",
    "    # Need to check URL after loading because NHL site does not error out for URLs\n",
    "    # that are out of range\n",
    "    failed = True\n",
    "    for attempt in range(load_attempts):\n",
    "        try:\n",
    "            driver.get(url_template % season)\n",
    "            failed = False\n",
    "            break\n",
    "        except:\n",
    "            time.sleep(sleep_max)\n",
    "    if failed:\n",
    "        raise RuntimeError('Failed to load page')\n",
    "    try:\n",
    "        WebDriverWait(driver, 20).until(EC.presence_of_element_located((By.CLASS_NAME, search_class)))\n",
    "    except:\n",
    "        continue\n",
    "    url_current = driver.current_url\n",
    "    if url_current in urls_visited:\n",
    "        break\n",
    "    urls_visited.add(url_current)\n",
    "    \n",
    "    # Season standings are contained in an unlabeled table which can be found by\n",
    "    # navigating down from the section with the search class\n",
    "    soup_page = BeautifulSoup(driver.page_source, 'lxml')\n",
    "    soup_section = soup_page.find('section', {'class': search_class})\n",
    "    soup_table = soup_section.find('table')\n",
    "    df_table = pd.read_html(str(soup_table))[0]\n",
    "    \n",
    "    # The first table column contains both team and rank data\n",
    "    col_main = df_table.columns[0]\n",
    "    series_team = df_table[col_main].str.slice(start=-3)\n",
    "    series_rank = df_table[col_main].str.split(pat=' ', n=1, expand=True)[0]\n",
    "    df_season = pd.DataFrame({'Team': series_team, 'Rank': series_rank})\n",
    "    df_season['Season'] = season\n",
    "    df_list.append(df_season)\n",
    "    \n",
    "    print('%i records loaded from %s' % (df_season.shape[0], url_current))\n",
    "    sleep_duration = random.uniform(sleep_min, sleep_max)\n",
    "    time.sleep(sleep_duration)\n",
    "    \n",
    "driver.close()"
   ]
  },
  {
   "cell_type": "markdown",
   "metadata": {},
   "source": [
    "### 6. Assemble Single DataFrame"
   ]
  },
  {
   "cell_type": "code",
   "execution_count": 6,
   "metadata": {},
   "outputs": [
    {
     "name": "stdout",
     "output_type": "stream",
     "text": [
      "(993, 3)\n"
     ]
    },
    {
     "data": {
      "text/html": [
       "<div>\n",
       "<style scoped>\n",
       "    .dataframe tbody tr th:only-of-type {\n",
       "        vertical-align: middle;\n",
       "    }\n",
       "\n",
       "    .dataframe tbody tr th {\n",
       "        vertical-align: top;\n",
       "    }\n",
       "\n",
       "    .dataframe thead th {\n",
       "        text-align: right;\n",
       "    }\n",
       "</style>\n",
       "<table border=\"1\" class=\"dataframe\">\n",
       "  <thead>\n",
       "    <tr style=\"text-align: right;\">\n",
       "      <th></th>\n",
       "      <th>Team</th>\n",
       "      <th>Rank</th>\n",
       "      <th>Season</th>\n",
       "    </tr>\n",
       "  </thead>\n",
       "  <tbody>\n",
       "    <tr>\n",
       "      <td>477</td>\n",
       "      <td>DET</td>\n",
       "      <td>1</td>\n",
       "      <td>2005</td>\n",
       "    </tr>\n",
       "    <tr>\n",
       "      <td>375</td>\n",
       "      <td>NSH</td>\n",
       "      <td>19</td>\n",
       "      <td>2000</td>\n",
       "    </tr>\n",
       "    <tr>\n",
       "      <td>855</td>\n",
       "      <td>DAL</td>\n",
       "      <td>19</td>\n",
       "      <td>2017</td>\n",
       "    </tr>\n",
       "    <tr>\n",
       "      <td>247</td>\n",
       "      <td>NYI</td>\n",
       "      <td>24</td>\n",
       "      <td>1995</td>\n",
       "    </tr>\n",
       "    <tr>\n",
       "      <td>564</td>\n",
       "      <td>ATL</td>\n",
       "      <td>28</td>\n",
       "      <td>2007</td>\n",
       "    </tr>\n",
       "    <tr>\n",
       "      <td>905</td>\n",
       "      <td>PIT</td>\n",
       "      <td>7</td>\n",
       "      <td>2019</td>\n",
       "    </tr>\n",
       "    <tr>\n",
       "      <td>803</td>\n",
       "      <td>CBJ</td>\n",
       "      <td>27</td>\n",
       "      <td>2015</td>\n",
       "    </tr>\n",
       "    <tr>\n",
       "      <td>385</td>\n",
       "      <td>TBL</td>\n",
       "      <td>29</td>\n",
       "      <td>2000</td>\n",
       "    </tr>\n",
       "    <tr>\n",
       "      <td>7</td>\n",
       "      <td>CHI</td>\n",
       "      <td>8</td>\n",
       "      <td>1985</td>\n",
       "    </tr>\n",
       "    <tr>\n",
       "      <td>306</td>\n",
       "      <td>TOR</td>\n",
       "      <td>5</td>\n",
       "      <td>1998</td>\n",
       "    </tr>\n",
       "  </tbody>\n",
       "</table>\n",
       "</div>"
      ],
      "text/plain": [
       "    Team  Rank  Season\n",
       "477  DET     1    2005\n",
       "375  NSH    19    2000\n",
       "855  DAL    19    2017\n",
       "247  NYI    24    1995\n",
       "564  ATL    28    2007\n",
       "905  PIT     7    2019\n",
       "803  CBJ    27    2015\n",
       "385  TBL    29    2000\n",
       "7    CHI     8    1985\n",
       "306  TOR     5    1998"
      ]
     },
     "execution_count": 6,
     "metadata": {},
     "output_type": "execute_result"
    }
   ],
   "source": [
    "df = pd.concat(df_list)\n",
    "print(df.shape)\n",
    "df.sample(10)"
   ]
  },
  {
   "cell_type": "markdown",
   "metadata": {},
   "source": [
    "### 7. Export DataFrame to CSV"
   ]
  },
  {
   "cell_type": "code",
   "execution_count": 7,
   "metadata": {},
   "outputs": [],
   "source": [
    "df.to_csv(csv_file, index=False)"
   ]
  },
  {
   "cell_type": "code",
   "execution_count": null,
   "metadata": {},
   "outputs": [],
   "source": []
  }
 ],
 "metadata": {
  "kernelspec": {
   "display_name": "Python 3",
   "language": "python",
   "name": "python3"
  },
  "language_info": {
   "codemirror_mode": {
    "name": "ipython",
    "version": 3
   },
   "file_extension": ".py",
   "mimetype": "text/x-python",
   "name": "python",
   "nbconvert_exporter": "python",
   "pygments_lexer": "ipython3",
   "version": "3.7.4"
  }
 },
 "nbformat": 4,
 "nbformat_minor": 4
}
